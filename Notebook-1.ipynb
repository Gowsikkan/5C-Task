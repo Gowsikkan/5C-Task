{
 "cells": [
  {
   "cell_type": "code",
   "execution_count": 1,
   "metadata": {},
   "outputs": [],
   "source": [
    "import pandas as pd\n",
    "import numpy as np"
   ]
  },
  {
   "cell_type": "code",
   "execution_count": 2,
   "metadata": {},
   "outputs": [
    {
     "data": {
      "text/html": [
       "<div>\n",
       "<style scoped>\n",
       "    .dataframe tbody tr th:only-of-type {\n",
       "        vertical-align: middle;\n",
       "    }\n",
       "\n",
       "    .dataframe tbody tr th {\n",
       "        vertical-align: top;\n",
       "    }\n",
       "\n",
       "    .dataframe thead th {\n",
       "        text-align: right;\n",
       "    }\n",
       "</style>\n",
       "<table border=\"1\" class=\"dataframe\">\n",
       "  <thead>\n",
       "    <tr style=\"text-align: right;\">\n",
       "      <th></th>\n",
       "      <th>Date</th>\n",
       "      <th>Firm bought from</th>\n",
       "      <th>Buying price</th>\n",
       "      <th>Customer</th>\n",
       "      <th>Selling price</th>\n",
       "      <th>Quantity sold</th>\n",
       "    </tr>\n",
       "  </thead>\n",
       "  <tbody>\n",
       "    <tr>\n",
       "      <th>0</th>\n",
       "      <td>21/08/23</td>\n",
       "      <td>Vendor6</td>\n",
       "      <td>72.11</td>\n",
       "      <td>Customer7</td>\n",
       "      <td>91.58</td>\n",
       "      <td>44</td>\n",
       "    </tr>\n",
       "    <tr>\n",
       "      <th>1</th>\n",
       "      <td>21/08/23</td>\n",
       "      <td>Vendor4</td>\n",
       "      <td>75.08</td>\n",
       "      <td>Customer7</td>\n",
       "      <td>83.71</td>\n",
       "      <td>17</td>\n",
       "    </tr>\n",
       "    <tr>\n",
       "      <th>2</th>\n",
       "      <td>21/08/23</td>\n",
       "      <td>Vendor7</td>\n",
       "      <td>83.93</td>\n",
       "      <td>Customer2</td>\n",
       "      <td>103.76</td>\n",
       "      <td>15</td>\n",
       "    </tr>\n",
       "    <tr>\n",
       "      <th>3</th>\n",
       "      <td>21/08/23</td>\n",
       "      <td>Vendor7</td>\n",
       "      <td>52.01</td>\n",
       "      <td>Customer3</td>\n",
       "      <td>64.53</td>\n",
       "      <td>7</td>\n",
       "    </tr>\n",
       "    <tr>\n",
       "      <th>4</th>\n",
       "      <td>21/08/23</td>\n",
       "      <td>Vendor2</td>\n",
       "      <td>98.91</td>\n",
       "      <td>Customer5</td>\n",
       "      <td>140.92</td>\n",
       "      <td>1</td>\n",
       "    </tr>\n",
       "  </tbody>\n",
       "</table>\n",
       "</div>"
      ],
      "text/plain": [
       "       Date Firm bought from  Buying price   Customer  Selling price  \\\n",
       "0  21/08/23          Vendor6         72.11  Customer7          91.58   \n",
       "1  21/08/23          Vendor4         75.08  Customer7          83.71   \n",
       "2  21/08/23          Vendor7         83.93  Customer2         103.76   \n",
       "3  21/08/23          Vendor7         52.01  Customer3          64.53   \n",
       "4  21/08/23          Vendor2         98.91  Customer5         140.92   \n",
       "\n",
       "   Quantity sold  \n",
       "0             44  \n",
       "1             17  \n",
       "2             15  \n",
       "3              7  \n",
       "4              1  "
      ]
     },
     "execution_count": 2,
     "metadata": {},
     "output_type": "execute_result"
    }
   ],
   "source": [
    "df= pd.read_csv(\"sales_data_1.csv\")\n",
    "df.head()"
   ]
  },
  {
   "cell_type": "markdown",
   "metadata": {},
   "source": [
    "## Q1 What is their overall gross margin for their business?"
   ]
  },
  {
   "cell_type": "code",
   "execution_count": 4,
   "metadata": {},
   "outputs": [
    {
     "name": "stdout",
     "output_type": "stream",
     "text": [
      "Gross Margin: 23.33%\n"
     ]
    }
   ],
   "source": [
    "# Calculate the total revenue and total cost of goods sold\n",
    "total_revenue = df[\"Selling price\"].sum()\n",
    "total_cost_of_goods_sold = df[\"Buying price\"].sum()\n",
    "\n",
    "# Calculate the gross margin\n",
    "gross_margin = (total_revenue - total_cost_of_goods_sold) / total_revenue\n",
    "\n",
    "# Convert the result to a percentage\n",
    "gross_margin_percentage = gross_margin * 100\n",
    "\n",
    "print(f\"Gross Margin: {gross_margin_percentage:.2f}%\")\n"
   ]
  },
  {
   "cell_type": "markdown",
   "metadata": {},
   "source": [
    "## Q2. Which vendor is the most profitable?"
   ]
  },
  {
   "cell_type": "code",
   "execution_count": 6,
   "metadata": {},
   "outputs": [
    {
     "name": "stdout",
     "output_type": "stream",
     "text": [
      "The most profitable vendor is Vendor4\n"
     ]
    }
   ],
   "source": [
    "# Group the data by vendor and calculate the total profit for each vendor\n",
    "df['Profit'] = (df['Selling price'] - df['Buying price']) * df['Quantity sold']\n",
    "vendor_profit = df.groupby(\"Firm bought from\")[\"Profit\"].sum()\n",
    "\n",
    "# Find the vendor with the highest total profit\n",
    "most_profitable_vendor = vendor_profit.idxmax()\n",
    "total_profit = vendor_profit.max()\n",
    "\n",
    "print(f\"The most profitable vendor is {most_profitable_vendor}\")\n"
   ]
  },
  {
   "cell_type": "markdown",
   "metadata": {},
   "source": [
    "\n",
    "## Q3. Which customer is the least profitable?"
   ]
  },
  {
   "cell_type": "code",
   "execution_count": 7,
   "metadata": {},
   "outputs": [
    {
     "name": "stdout",
     "output_type": "stream",
     "text": [
      "3. Least Profitable Customer: Customer3\n"
     ]
    }
   ],
   "source": [
    "least_profitable_customer = df.groupby('Customer')['Profit'].sum().idxmin()\n",
    "print(f\"3. Least Profitable Customer: {least_profitable_customer}\")"
   ]
  },
  {
   "cell_type": "markdown",
   "metadata": {},
   "source": [
    "\n",
    "## Q4. Which day of the week was most profitable for them?"
   ]
  },
  {
   "cell_type": "code",
   "execution_count": 10,
   "metadata": {},
   "outputs": [
    {
     "name": "stdout",
     "output_type": "stream",
     "text": [
      "The most profitable day of the week is Monday\n"
     ]
    }
   ],
   "source": [
    "# Group the data by the day of the week and calculate the total profit for each day\n",
    "df['Date'] = pd.to_datetime(df['Date'])\n",
    "df[\"Day_of_Week\"] = df[\"Date\"].dt.day_name()\n",
    "day_of_week_profit = df.groupby(\"Day_of_Week\")[\"Profit\"].sum()\n",
    "\n",
    "# Find the day of the week with the highest total profit\n",
    "most_profitable_day = day_of_week_profit.idxmax()\n",
    "\n",
    "print(f\"The most profitable day of the week is {most_profitable_day}\")\n"
   ]
  },
  {
   "cell_type": "markdown",
   "metadata": {},
   "source": [
    "\n",
    "## Q5. Which day of the week was the least profitable for them?"
   ]
  },
  {
   "cell_type": "code",
   "execution_count": 16,
   "metadata": {},
   "outputs": [
    {
     "name": "stdout",
     "output_type": "stream",
     "text": [
      "The least profitable day of the week is Sunday\n"
     ]
    }
   ],
   "source": [
    "# Group the data by the day of the week and calculate the total profit for each day\n",
    "df[\"Day_of_Week\"] = df[\"Date\"].dt.day_name()\n",
    "day_of_week_profit = df.groupby(\"Day_of_Week\")[\"Profit\"].sum()\n",
    "\n",
    "# Find the day of the week with the lowest total profit\n",
    "least_profitable_day = day_of_week_profit.idxmin()\n",
    "total_profit = day_of_week_profit.min()\n",
    "\n",
    "print(f\"The least profitable day of the week is {least_profitable_day}\")"
   ]
  },
  {
   "cell_type": "code",
   "execution_count": 14,
   "metadata": {},
   "outputs": [],
   "source": [
    "df1=pd.read_csv(\"sales_data_2.csv\")"
   ]
  },
  {
   "cell_type": "markdown",
   "metadata": {},
   "source": [
    "## Q6 Can you calculate a 3-day average of the daily gross profit from the sales_data_2.csv? "
   ]
  },
  {
   "cell_type": "code",
   "execution_count": 15,
   "metadata": {},
   "outputs": [
    {
     "data": {
      "text/html": [
       "<div>\n",
       "<style scoped>\n",
       "    .dataframe tbody tr th:only-of-type {\n",
       "        vertical-align: middle;\n",
       "    }\n",
       "\n",
       "    .dataframe tbody tr th {\n",
       "        vertical-align: top;\n",
       "    }\n",
       "\n",
       "    .dataframe thead th {\n",
       "        text-align: right;\n",
       "    }\n",
       "</style>\n",
       "<table border=\"1\" class=\"dataframe\">\n",
       "  <thead>\n",
       "    <tr style=\"text-align: right;\">\n",
       "      <th></th>\n",
       "      <th>Date</th>\n",
       "      <th>Firm bought from</th>\n",
       "      <th>Buying price</th>\n",
       "      <th>Quantity bought</th>\n",
       "      <th>Customer</th>\n",
       "      <th>Selling price</th>\n",
       "      <th>Quantity sold</th>\n",
       "      <th>Daily Gross Profit</th>\n",
       "      <th>3-Day Average Profit</th>\n",
       "    </tr>\n",
       "  </thead>\n",
       "  <tbody>\n",
       "    <tr>\n",
       "      <th>0</th>\n",
       "      <td>2023-08-21</td>\n",
       "      <td>Vendor6</td>\n",
       "      <td>72.11</td>\n",
       "      <td>60</td>\n",
       "      <td>Customer7</td>\n",
       "      <td>91.58</td>\n",
       "      <td>44</td>\n",
       "      <td>856.68</td>\n",
       "      <td>NaN</td>\n",
       "    </tr>\n",
       "    <tr>\n",
       "      <th>1</th>\n",
       "      <td>2023-08-21</td>\n",
       "      <td>Vendor4</td>\n",
       "      <td>75.08</td>\n",
       "      <td>92</td>\n",
       "      <td>Customer7</td>\n",
       "      <td>83.71</td>\n",
       "      <td>17</td>\n",
       "      <td>146.71</td>\n",
       "      <td>NaN</td>\n",
       "    </tr>\n",
       "    <tr>\n",
       "      <th>2</th>\n",
       "      <td>2023-08-21</td>\n",
       "      <td>Vendor7</td>\n",
       "      <td>83.93</td>\n",
       "      <td>16</td>\n",
       "      <td>Customer2</td>\n",
       "      <td>103.76</td>\n",
       "      <td>15</td>\n",
       "      <td>297.45</td>\n",
       "      <td>433.613333</td>\n",
       "    </tr>\n",
       "    <tr>\n",
       "      <th>3</th>\n",
       "      <td>2023-08-21</td>\n",
       "      <td>Vendor7</td>\n",
       "      <td>52.01</td>\n",
       "      <td>62</td>\n",
       "      <td>Customer3</td>\n",
       "      <td>64.53</td>\n",
       "      <td>7</td>\n",
       "      <td>87.64</td>\n",
       "      <td>177.266667</td>\n",
       "    </tr>\n",
       "    <tr>\n",
       "      <th>4</th>\n",
       "      <td>2023-08-21</td>\n",
       "      <td>Vendor2</td>\n",
       "      <td>98.91</td>\n",
       "      <td>1</td>\n",
       "      <td>Customer5</td>\n",
       "      <td>140.92</td>\n",
       "      <td>1</td>\n",
       "      <td>42.01</td>\n",
       "      <td>142.366667</td>\n",
       "    </tr>\n",
       "    <tr>\n",
       "      <th>...</th>\n",
       "      <td>...</td>\n",
       "      <td>...</td>\n",
       "      <td>...</td>\n",
       "      <td>...</td>\n",
       "      <td>...</td>\n",
       "      <td>...</td>\n",
       "      <td>...</td>\n",
       "      <td>...</td>\n",
       "      <td>...</td>\n",
       "    </tr>\n",
       "    <tr>\n",
       "      <th>65</th>\n",
       "      <td>2023-08-27</td>\n",
       "      <td>Vendor4</td>\n",
       "      <td>64.82</td>\n",
       "      <td>28</td>\n",
       "      <td>Customer6</td>\n",
       "      <td>87.45</td>\n",
       "      <td>18</td>\n",
       "      <td>407.34</td>\n",
       "      <td>552.863333</td>\n",
       "    </tr>\n",
       "    <tr>\n",
       "      <th>66</th>\n",
       "      <td>2023-08-27</td>\n",
       "      <td>Vendor8</td>\n",
       "      <td>88.79</td>\n",
       "      <td>14</td>\n",
       "      <td>Customer3</td>\n",
       "      <td>105.59</td>\n",
       "      <td>5</td>\n",
       "      <td>84.00</td>\n",
       "      <td>552.070000</td>\n",
       "    </tr>\n",
       "    <tr>\n",
       "      <th>67</th>\n",
       "      <td>2023-08-27</td>\n",
       "      <td>Vendor5</td>\n",
       "      <td>63.30</td>\n",
       "      <td>81</td>\n",
       "      <td>Customer5</td>\n",
       "      <td>92.92</td>\n",
       "      <td>32</td>\n",
       "      <td>947.84</td>\n",
       "      <td>479.726667</td>\n",
       "    </tr>\n",
       "    <tr>\n",
       "      <th>68</th>\n",
       "      <td>2023-08-27</td>\n",
       "      <td>Vendor5</td>\n",
       "      <td>94.06</td>\n",
       "      <td>18</td>\n",
       "      <td>Customer5</td>\n",
       "      <td>125.67</td>\n",
       "      <td>4</td>\n",
       "      <td>126.44</td>\n",
       "      <td>386.093333</td>\n",
       "    </tr>\n",
       "    <tr>\n",
       "      <th>69</th>\n",
       "      <td>2023-08-27</td>\n",
       "      <td>Vendor5</td>\n",
       "      <td>56.28</td>\n",
       "      <td>25</td>\n",
       "      <td>Customer6</td>\n",
       "      <td>82.16</td>\n",
       "      <td>1</td>\n",
       "      <td>25.88</td>\n",
       "      <td>366.720000</td>\n",
       "    </tr>\n",
       "  </tbody>\n",
       "</table>\n",
       "<p>70 rows × 9 columns</p>\n",
       "</div>"
      ],
      "text/plain": [
       "         Date Firm bought from  Buying price  Quantity bought   Customer  \\\n",
       "0  2023-08-21          Vendor6         72.11               60  Customer7   \n",
       "1  2023-08-21          Vendor4         75.08               92  Customer7   \n",
       "2  2023-08-21          Vendor7         83.93               16  Customer2   \n",
       "3  2023-08-21          Vendor7         52.01               62  Customer3   \n",
       "4  2023-08-21          Vendor2         98.91                1  Customer5   \n",
       "..        ...              ...           ...              ...        ...   \n",
       "65 2023-08-27          Vendor4         64.82               28  Customer6   \n",
       "66 2023-08-27          Vendor8         88.79               14  Customer3   \n",
       "67 2023-08-27          Vendor5         63.30               81  Customer5   \n",
       "68 2023-08-27          Vendor5         94.06               18  Customer5   \n",
       "69 2023-08-27          Vendor5         56.28               25  Customer6   \n",
       "\n",
       "    Selling price  Quantity sold  Daily Gross Profit  3-Day Average Profit  \n",
       "0           91.58             44              856.68                   NaN  \n",
       "1           83.71             17              146.71                   NaN  \n",
       "2          103.76             15              297.45            433.613333  \n",
       "3           64.53              7               87.64            177.266667  \n",
       "4          140.92              1               42.01            142.366667  \n",
       "..            ...            ...                 ...                   ...  \n",
       "65          87.45             18              407.34            552.863333  \n",
       "66         105.59              5               84.00            552.070000  \n",
       "67          92.92             32              947.84            479.726667  \n",
       "68         125.67              4              126.44            386.093333  \n",
       "69          82.16              1               25.88            366.720000  \n",
       "\n",
       "[70 rows x 9 columns]"
      ]
     },
     "execution_count": 15,
     "metadata": {},
     "output_type": "execute_result"
    }
   ],
   "source": [
    "df1[\"Date\"] = pd.to_datetime(df1[\"Date\"])\n",
    "\n",
    "# Calculate daily gross profit\n",
    "df1[\"Daily Gross Profit\"] = (df1[\"Selling price\"] - df[\"Buying price\"]) * df[\"Quantity sold\"]\n",
    "\n",
    "# Calculate the 3-day rolling average of daily gross profit\n",
    "df1[\"3-Day Average Profit\"] = df1[\"Daily Gross Profit\"].rolling(window=3).mean()\n",
    "\n",
    "# Display the DataFrame with the calculated average\n",
    "df1"
   ]
  },
  {
   "cell_type": "markdown",
   "metadata": {},
   "source": [
    "## Q7 Additionally, provide insights into how this 3-day trend changes over the time period covered in the dataset."
   ]
  },
  {
   "cell_type": "code",
   "execution_count": null,
   "metadata": {},
   "outputs": [],
   "source": []
  },
  {
   "cell_type": "markdown",
   "metadata": {},
   "source": [
    "## Q8 Can you optimize the sales process to ensure gross margin is maximized?\n",
    "    1. Would you fire any vendor?\n",
    "    2. Would you let go of any customer?"
   ]
  },
  {
   "cell_type": "code",
   "execution_count": null,
   "metadata": {},
   "outputs": [],
   "source": []
  },
  {
   "cell_type": "markdown",
   "metadata": {},
   "source": [
    "## Q9 To ensure competitive pricing, Ram wants to benchmark their buying and selling prices against the market. Could you calculate the 25th, 50th (median), and 75th percentiles for both buying and selling prices? "
   ]
  },
  {
   "cell_type": "code",
   "execution_count": 18,
   "metadata": {},
   "outputs": [
    {
     "name": "stdout",
     "output_type": "stream",
     "text": [
      "25th Percentile for Buying Price: 29.90\n",
      "25th Percentile for Selling Price: 38.98\n",
      "50th Percentile for Buying Price: 60.76\n",
      "50th Percentile for Selling Price: 78.99\n",
      "75th Percentile for Buying Price: 78.32\n",
      "75th Percentile for Selling Price: 103.40\n"
     ]
    }
   ],
   "source": [
    "# Calculate the percentiles for buying and selling prices\n",
    "buying_prices = df1[\"Buying price\"]\n",
    "selling_prices = df1[\"Selling price\"]\n",
    "\n",
    "percentiles = [25, 50, 75]\n",
    "\n",
    "buying_price_percentiles = np.percentile(buying_prices, percentiles)\n",
    "selling_price_percentiles = np.percentile(selling_prices, percentiles)\n",
    "\n",
    "# Display the results\n",
    "for i, percentile in enumerate(percentiles):\n",
    "    print(f\"{percentile}th Percentile for Buying Price: {buying_price_percentiles[i]:.2f}\")\n",
    "    print(f\"{percentile}th Percentile for Selling Price: {selling_price_percentiles[i]:.2f}\")\n"
   ]
  },
  {
   "cell_type": "markdown",
   "metadata": {},
   "source": [
    "## Q10 Additionally, analyze how often the Sapota’s prices fall below the 25th percentile or above the 75th percentile, potentially indicating they are buying at a high price or selling at a low price relative to their own transaction history."
   ]
  },
  {
   "cell_type": "code",
   "execution_count": 24,
   "metadata": {},
   "outputs": [
    {
     "name": "stdout",
     "output_type": "stream",
     "text": [
      "Percentage of buying prices below the 25th percentile: 25.71%\n",
      "Percentage of buying prices above the 75th percentile: 25.71%\n",
      "Percentage of selling prices below the 25th percentile: 25.71%\n",
      "Percentage of selling prices above the 75th percentile: 25.71%\n"
     ]
    }
   ],
   "source": [
    "below_25th_buying = (df1[\"Buying price\"] < buying_price_percentiles[0]).sum()\n",
    "above_75th_buying = (df1[\"Buying price\"] > buying_price_percentiles[2]).sum()\n",
    "below_25th_selling = (df1[\"Selling price\"] < selling_price_percentiles[0]).sum()\n",
    "above_75th_selling = (df1[\"Selling price\"] > selling_price_percentiles[2]).sum()\n",
    "\n",
    "total_rows = df.shape[0]\n",
    "\n",
    "# Calculate the percentages\n",
    "percentage_below_25th_buying = (below_25th_buying / total_rows) * 100\n",
    "percentage_above_75th_buying = (above_75th_buying / total_rows) * 100\n",
    "percentage_below_25th_selling = (below_25th_selling / total_rows) * 100\n",
    "percentage_above_75th_selling = (above_75th_selling / total_rows) * 100\n",
    "\n",
    "# Display the results\n",
    "print(f\"Percentage of buying prices below the 25th percentile: {percentage_below_25th_buying:.2f}%\")\n",
    "print(f\"Percentage of buying prices above the 75th percentile: {percentage_above_75th_buying:.2f}%\")\n",
    "print(f\"Percentage of selling prices below the 25th percentile: {percentage_below_25th_selling:.2f}%\")\n",
    "print(f\"Percentage of selling prices above the 75th percentile: {percentage_above_75th_selling:.2f}%\")\n"
   ]
  },
  {
   "cell_type": "markdown",
   "metadata": {},
   "source": [
    "## Q11 Bharath says that Vendor 4 has to be honored.  What impact does it have on your optimal gross margin? "
   ]
  },
  {
   "cell_type": "code",
   "execution_count": null,
   "metadata": {},
   "outputs": [],
   "source": []
  },
  {
   "cell_type": "markdown",
   "metadata": {},
   "source": [
    "## Q12 What’s the theoretical max margin the firm could have from that branch?"
   ]
  },
  {
   "cell_type": "code",
   "execution_count": 23,
   "metadata": {},
   "outputs": [
    {
     "name": "stdout",
     "output_type": "stream",
     "text": [
      "The vendor with the highest average gross margin is Vendor9 with an average gross margin of 27.54\n",
      "The theoretical maximum gross margin for the branch is 17.25\n"
     ]
    }
   ],
   "source": [
    "import pandas as pd\n",
    "\n",
    "# Assuming you have your data in a DataFrame called 'df'\n",
    "# Calculate the average gross margin for each vendor\n",
    "vendor_avg_margin = df1.groupby(\"Firm bought from\").apply(lambda x: (x[\"Selling price\"] - x[\"Buying price\"]).mean())\n",
    "\n",
    "# Find the vendor with the highest average gross margin\n",
    "best_vendor = vendor_avg_margin.idxmax()\n",
    "max_avg_margin = vendor_avg_margin.max()\n",
    "\n",
    "print(f\"The vendor with the highest average gross margin is {best_vendor} with an average gross margin of {max_avg_margin:.2f}\")\n",
    "\n",
    "# Calculate the theoretical maximum gross margin for the entire branch\n",
    "theoretical_max_margin = (df[\"Selling price\"] - df[\"Buying price\"]).mean()\n",
    "\n",
    "print(f\"The theoretical maximum gross margin for the branch is {theoretical_max_margin:.2f}\")\n"
   ]
  },
  {
   "cell_type": "markdown",
   "metadata": {},
   "source": [
    "## Q13 Given this is the ground truth, what is the price elasticity of Sapota for that branch? (If you increase by Rs.1, how much sales will go up/down and if you decrease price by Rs. 1, how much sales will go up/down) "
   ]
  },
  {
   "cell_type": "code",
   "execution_count": 25,
   "metadata": {},
   "outputs": [
    {
     "name": "stdout",
     "output_type": "stream",
     "text": [
      "Price Elasticity of Demand for a Rs. 1 price increase: nan\n",
      "Price Elasticity of Demand for a Rs. 1 price decrease: nan\n"
     ]
    }
   ],
   "source": [
    "import pandas as pd\n",
    "\n",
    "# Assuming you have your data in a DataFrame called 'df'\n",
    "# Calculate the average quantity sold and average selling price\n",
    "average_quantity_sold = df1[\"Quantity sold\"].mean()\n",
    "average_selling_price = df1[\"Selling price\"].mean()\n",
    "\n",
    "# Simulate an increase in price by Rs. 1\n",
    "new_price_increase = average_selling_price + 1\n",
    "new_quantity_increase = df[df[\"Selling price\"] == new_price_increase][\"Quantity sold\"].mean()\n",
    "percentage_change_in_quantity_increase = ((new_quantity_increase - average_quantity_sold) / average_quantity_sold) * 100\n",
    "percentage_change_in_price_increase = ((new_price_increase - average_selling_price) / average_selling_price) * 100\n",
    "\n",
    "# Simulate a decrease in price by Rs. 1\n",
    "new_price_decrease = average_selling_price - 1\n",
    "new_quantity_decrease = df[df[\"Selling price\"] == new_price_decrease][\"Quantity sold\"].mean()\n",
    "percentage_change_in_quantity_decrease = ((new_quantity_decrease - average_quantity_sold) / average_quantity_sold) * 100\n",
    "percentage_change_in_price_decrease = ((new_price_decrease - average_selling_price) / average_selling_price) * 100\n",
    "\n",
    "# Calculate the price elasticity for both scenarios\n",
    "price_elasticity_increase = percentage_change_in_quantity_increase / percentage_change_in_price_increase\n",
    "price_elasticity_decrease = percentage_change_in_quantity_decrease / percentage_change_in_price_decrease\n",
    "\n",
    "print(f\"Price Elasticity of Demand for a Rs. 1 price increase: {price_elasticity_increase:.2f}\")\n",
    "print(f\"Price Elasticity of Demand for a Rs. 1 price decrease: {price_elasticity_decrease:.2f}\")\n"
   ]
  },
  {
   "cell_type": "code",
   "execution_count": null,
   "metadata": {},
   "outputs": [],
   "source": []
  }
 ],
 "metadata": {
  "kernelspec": {
   "display_name": "Python 3",
   "language": "python",
   "name": "python3"
  },
  "language_info": {
   "codemirror_mode": {
    "name": "ipython",
    "version": 3
   },
   "file_extension": ".py",
   "mimetype": "text/x-python",
   "name": "python",
   "nbconvert_exporter": "python",
   "pygments_lexer": "ipython3",
   "version": "3.7.6"
  }
 },
 "nbformat": 4,
 "nbformat_minor": 4
}
